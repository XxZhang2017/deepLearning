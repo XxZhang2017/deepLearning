{
 "cells": [
  {
   "cell_type": "code",
   "execution_count": 1,
   "metadata": {},
   "outputs": [
    {
     "name": "stdout",
     "output_type": "stream",
     "text": [
      "[[255 255 255 ... 246 245 253]\n",
      " [ 24  28  27 ... 163 159 167]\n",
      " [255 255 255 ... 227 231 229]\n",
      " ...\n",
      " [ 68  72  69 ...  45  51  55]\n",
      " [255 255 255 ... 246 250 249]\n",
      " [ 61  63  65 ...  50  55  54]]\n"
     ]
    }
   ],
   "source": [
    "import numpy as np\n",
    "import pandas as pd\n",
    "from matplotlib import pyplot as plt\n",
    "import cv2\n",
    "import os\n",
    "\n",
    "#Original dataset path\n",
    "ORIGINAL = 'original'\n",
    "IMG_SIZE = 128\n",
    "size_images = dict()\n",
    "\n",
    "def label_img(img):\n",
    "    word_label = img.split('.')[0][-2]\n",
    "    return word_label\n",
    "\n",
    "#create training dataset which includes images and labels\n",
    "\n",
    "def create_train_data():\n",
    "    training_data = []\n",
    "    for img in os.listdir(ORIGINAL):\n",
    "        label = label_img(img)\n",
    "        path = os.path.join(ORIGINAL, img)\n",
    "        img = cv2.imread(path, cv2.IMREAD_GRAYSCALE)\n",
    "        if(img is not None):\n",
    "            heigth, width = img.shape[:2]\n",
    "            size_images[path] = {width, heigth}\n",
    "            #reshape the images to the same size\n",
    "            img = cv2.resize(img, (IMG_SIZE, IMG_SIZE))\n",
    "            training_data.append([img, label])\n",
    "    return training_data\n",
    "train_data = create_train_data()\n",
    "\n",
    "col_names = ['img', 'label']\n",
    "df = pd.DataFrame(train_data, columns=col_names)\n",
    "train_set = df.values\n",
    "X = train_set[:, 0]\n",
    "#set the dataTyp of array to int8 \n",
    "X = np.array(list(X), dtype=np.uint8)\n",
    "#Reshape the array to 2D array\n",
    "X = X.reshape(X.shape[0],IMG_SIZE*IMG_SIZE)\n",
    "y = train_set[:, 1]\n",
    "\n",
    "print(X[0:10])"
   ]
  },
  {
   "cell_type": "code",
   "execution_count": 2,
   "metadata": {},
   "outputs": [
    {
     "name": "stdout",
     "output_type": "stream",
     "text": [
      "uint8\n"
     ]
    }
   ],
   "source": [
    "from sklearn.model_selection import train_test_split\n",
    "test_size = 0.20\n",
    "seed = 7\n",
    "X_train, X_test, y_train, y_test = train_test_split(X, y, test_size=test_size, random_state=seed)\n",
    "print(X_train.dtype)\n"
   ]
  },
  {
   "cell_type": "code",
   "execution_count": 3,
   "metadata": {
    "collapsed": true
   },
   "outputs": [],
   "source": [
    "#Processing the data\n",
    "\n",
    "#from sklearn.preprocessing import StandardScaler\n",
    "#scaler = StandardScaler()\n",
    "# Fit only to the training data\n",
    "#scaler.fit(X_train)"
   ]
  },
  {
   "cell_type": "code",
   "execution_count": 4,
   "metadata": {
    "collapsed": true
   },
   "outputs": [],
   "source": [
    "#apply the transformations to the data:\n",
    "#X_train = scaler.transform(X_train)\n",
    "#X_test = scaler.transform(X_test)"
   ]
  },
  {
   "cell_type": "code",
   "execution_count": 5,
   "metadata": {
    "scrolled": true
   },
   "outputs": [
    {
     "data": {
      "text/plain": [
       "MLPClassifier(activation='logistic', alpha=0.0001, batch_size='auto',\n",
       "       beta_1=0.9, beta_2=0.999, early_stopping=False, epsilon=1e-08,\n",
       "       hidden_layer_sizes=(128, 128), learning_rate='constant',\n",
       "       learning_rate_init=0.001, max_iter=200, momentum=0.9,\n",
       "       nesterovs_momentum=True, power_t=0.5, random_state=None,\n",
       "       shuffle=True, solver='sgd', tol=0.0001, validation_fraction=0.1,\n",
       "       verbose=False, warm_start=False)"
      ]
     },
     "execution_count": 5,
     "metadata": {},
     "output_type": "execute_result"
    }
   ],
   "source": [
    "#Training the model\n",
    "from sklearn.neural_network import MLPClassifier\n",
    "\n",
    "mlp = MLPClassifier(hidden_layer_sizes=(128,128), solver=\"sgd\")\n",
    "mlp.activation = \"logistic\"\n",
    "mlp.fit(X_train,y_train)"
   ]
  },
  {
   "cell_type": "code",
   "execution_count": 6,
   "metadata": {},
   "outputs": [
    {
     "name": "stdout",
     "output_type": "stream",
     "text": [
      "[[ 0  1  0  8  0  7  3  0  0  0]\n",
      " [ 0  4  0  3  0  3  2  0  0  0]\n",
      " [ 0  0  0 12  0  4  5  0  0  0]\n",
      " [ 0  2  0  6  0  0  2  0  0  0]\n",
      " [ 0  0  0  5  0  4  3  0  0  0]\n",
      " [ 0  0  0  4  0  5  1  0  0  0]\n",
      " [ 0  2  0  4  0  0  4  0  0  0]\n",
      " [ 0  0  0  9  0  2  6  0  0  0]\n",
      " [ 0  0  0  7  0  3  7  0  0  0]\n",
      " [ 0  0  0  9  0  1  6  0  0  0]]\n"
     ]
    }
   ],
   "source": [
    "predictions = mlp.predict(X_test)\n",
    "from sklearn.metrics import classification_report,confusion_matrix\n",
    "print(confusion_matrix(y_test,predictions))"
   ]
  },
  {
   "cell_type": "code",
   "execution_count": 7,
   "metadata": {},
   "outputs": [
    {
     "name": "stdout",
     "output_type": "stream",
     "text": [
      "             precision    recall  f1-score   support\n",
      "\n",
      "          a       0.00      0.00      0.00        19\n",
      "          b       0.44      0.33      0.38        12\n",
      "          c       0.00      0.00      0.00        21\n",
      "          d       0.09      0.60      0.16        10\n",
      "          g       0.00      0.00      0.00        12\n",
      "          h       0.17      0.50      0.26        10\n",
      "          i       0.10      0.40      0.16        10\n",
      "          l       0.00      0.00      0.00        17\n",
      "          v       0.00      0.00      0.00        17\n",
      "          y       0.00      0.00      0.00        16\n",
      "\n",
      "avg / total       0.06      0.13      0.07       144\n",
      "\n"
     ]
    },
    {
     "name": "stderr",
     "output_type": "stream",
     "text": [
      "/Users/hien/anaconda3/lib/python3.6/site-packages/sklearn/metrics/classification.py:1135: UndefinedMetricWarning: Precision and F-score are ill-defined and being set to 0.0 in labels with no predicted samples.\n",
      "  'precision', 'predicted', average, warn_for)\n"
     ]
    }
   ],
   "source": [
    "print(classification_report(y_test,predictions))"
   ]
  },
  {
   "cell_type": "code",
   "execution_count": 8,
   "metadata": {},
   "outputs": [
    {
     "data": {
      "text/plain": [
       "16384"
      ]
     },
     "execution_count": 8,
     "metadata": {},
     "output_type": "execute_result"
    }
   ],
   "source": [
    "len(mlp.coefs_[0])"
   ]
  },
  {
   "cell_type": "code",
   "execution_count": 9,
   "metadata": {},
   "outputs": [
    {
     "data": {
      "text/plain": [
       "'\\nimport snips as snp\\nsnp.prettyplot(matplotlib)\\nfig, ax = snp.newfig()\\nax.plot(classifier.loss_curve_)\\nsnp.labs(\"number of steps\", \"loss function\", \"Loss During GD (Rate=0.001)\")\\n'"
      ]
     },
     "execution_count": 9,
     "metadata": {},
     "output_type": "execute_result"
    }
   ],
   "source": [
    "\"\"\"\n",
    "import snips as snp\n",
    "snp.prettyplot(matplotlib)\n",
    "fig, ax = snp.newfig()\n",
    "ax.plot(classifier.loss_curve_)\n",
    "snp.labs(\"number of steps\", \"loss function\", \"Loss During GD (Rate=0.001)\")\n",
    "\"\"\""
   ]
  },
  {
   "cell_type": "code",
   "execution_count": 10,
   "metadata": {},
   "outputs": [
    {
     "data": {
      "text/plain": [
       "MLPClassifier(activation='logistic', alpha=0.0001, batch_size='auto',\n",
       "       beta_1=0.9, beta_2=0.999, early_stopping=False, epsilon=1e-08,\n",
       "       hidden_layer_sizes=(128, 128), learning_rate='constant',\n",
       "       learning_rate_init=1, max_iter=200, momentum=0.9,\n",
       "       nesterovs_momentum=True, power_t=0.5, random_state=None,\n",
       "       shuffle=True, solver='sgd', tol=0.0001, validation_fraction=0.1,\n",
       "       verbose=False, warm_start=False)"
      ]
     },
     "execution_count": 10,
     "metadata": {},
     "output_type": "execute_result"
    }
   ],
   "source": [
    "mlp.learning_rate_init = 1\n",
    "mlp.fit(X_train, y_train)"
   ]
  },
  {
   "cell_type": "code",
   "execution_count": 11,
   "metadata": {},
   "outputs": [
    {
     "name": "stdout",
     "output_type": "stream",
     "text": [
      "             precision    recall  f1-score   support\n",
      "\n",
      "          a       0.00      0.00      0.00        19\n",
      "          b       0.44      0.33      0.38        12\n",
      "          c       0.00      0.00      0.00        21\n",
      "          d       0.09      0.60      0.16        10\n",
      "          g       0.00      0.00      0.00        12\n",
      "          h       0.17      0.50      0.26        10\n",
      "          i       0.10      0.40      0.16        10\n",
      "          l       0.00      0.00      0.00        17\n",
      "          v       0.00      0.00      0.00        17\n",
      "          y       0.00      0.00      0.00        16\n",
      "\n",
      "avg / total       0.06      0.13      0.07       144\n",
      "\n"
     ]
    },
    {
     "name": "stderr",
     "output_type": "stream",
     "text": [
      "/Users/hien/anaconda3/lib/python3.6/site-packages/sklearn/metrics/classification.py:1135: UndefinedMetricWarning: Precision and F-score are ill-defined and being set to 0.0 in labels with no predicted samples.\n",
      "  'precision', 'predicted', average, warn_for)\n"
     ]
    }
   ],
   "source": [
    "print(classification_report(y_test,predictions))"
   ]
  },
  {
   "cell_type": "code",
   "execution_count": null,
   "metadata": {
    "collapsed": true
   },
   "outputs": [],
   "source": []
  }
 ],
 "metadata": {
  "kernelspec": {
   "display_name": "Python 2",
   "language": "python",
   "name": "python2"
  },
  "language_info": {
   "codemirror_mode": {
    "name": "ipython",
    "version": 2
   },
   "file_extension": ".py",
   "mimetype": "text/x-python",
   "name": "python",
   "nbconvert_exporter": "python",
   "pygments_lexer": "ipython2",
   "version": "2.7.14"
  }
 },
 "nbformat": 4,
 "nbformat_minor": 2
}
